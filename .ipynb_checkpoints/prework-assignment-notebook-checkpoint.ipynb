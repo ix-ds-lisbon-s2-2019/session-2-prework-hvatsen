{
 "cells": [
  {
   "cell_type": "markdown",
   "metadata": {},
   "source": [
    "# Prework Assignment"
   ]
  },
  {
   "cell_type": "markdown",
   "metadata": {},
   "source": [
    "### General Background Questions"
   ]
  },
  {
   "cell_type": "markdown",
   "metadata": {},
   "source": [
    "1. Why is version control important in science?"
   ]
  },
  {
   "cell_type": "code",
   "execution_count": 1,
   "metadata": {},
   "outputs": [],
   "source": [
    "- Science, as a discipline, relies heavily on reproducibility and replicability. If results of scientific studies are difficult or impossible to replicate, a replication crisis (similar to the one plaguing social sciences like psychology in recent times) would occur. \n",
    "- Due to questionable research practices (such as partial publication of data and p-value rounding) and even outright fraud (such as falsification of data), there has been some issues with reproducing certain findings that have been published in scientific publications. This problem is further exacerbated by the fact that scientists often do not publish their entire methodology detailing their every step. The scientist who published a finding, himself, may also face issues with replication, if the methodology was not taken note of, or if datasets were mixed up. \n",
    "- Version control can help address this problem both on an individual level, and a much broader macro level. \n",
    "- On the individual level, version control can help scientists keep track of various research artifacts, such as datasets, documents and manuscripts. It can help maintain different versions of the same artefact and merge changes to ensure that all research artefacts are kept in order. This helps them improve their productivity.\n",
    "- On a macro level, version control can help make science more open, as every single stage of a research finding is uploaded. This ensures that others who wish to replicate a particular finding, have the resources and information required to do so. It also ensures that those who wish to build on existing findings have the additional information and methodology to do so. "
   ]
  },
  {
   "cell_type": "markdown",
   "metadata": {},
   "source": [
    "2. What kind of research artifacts can we track with Git?"
   ]
  },
  {
   "cell_type": "code",
   "execution_count": 1,
   "metadata": {},
   "outputs": [],
   "source": [
    "- Git can track research artifacts such as data, documents and code used for statistical analyses. It can also track lab notebooks, lectures, datasets and manuscripts. \n"
   ]
  },
  {
   "cell_type": "markdown",
   "metadata": {},
   "source": [
    "3. What are the three main things that can go wrong in a data science project?"
   ]
  },
  {
   "cell_type": "code",
   "execution_count": 1,
   "metadata": {},
   "outputs": [],
   "source": [
    "1. The data that is available at your disposal, is not what you need to make your project successful. \n",
    "2. The model that you have come up with, does not work properly.\n",
    "3. The problem that you are trying to solve, is incorrect. "
   ]
  },
  {
   "cell_type": "markdown",
   "metadata": {},
   "source": [
    "### Python Background Questions"
   ]
  },
  {
   "cell_type": "markdown",
   "metadata": {},
   "source": [
    "These short exercises are a way to familiarize yourself with python. If you find these exercises too difficult, don’t worry! We will review the basics the first day to make sure we are all comfortable coding in Python.\n",
    "\n",
    "Please save your work in this document and `git push` them to the `prework-assignment` repo.\n",
    "\n",
    "----------------------------------------------------------------"
   ]
  },
  {
   "cell_type": "markdown",
   "metadata": {},
   "source": [
    "### Problem 1: Basic Operations"
   ]
  },
  {
   "cell_type": "markdown",
   "metadata": {},
   "source": [
    "You are at Vanessa's Vegan Cafe and you loved it so much you wanna leave a tip. Write a function that takes the amount owed and calculates how much money you pay with an 18% tip. If functions still scare you, just the solution code will do."
   ]
  },
  {
   "cell_type": "code",
   "execution_count": 1,
   "metadata": {},
   "outputs": [],
   "source": [
    "#*START*\n",
    "print('Enter the original amount without the tip')\n",
    "amount_without_tip = input()\n",
    "final_amount = int(amount_without_tip) * 1.18\n",
    "print('The amount you owe the cafe is $' + str(int(final_amount)))\n",
    "#*END*"
   ]
  },
  {
   "cell_type": "markdown",
   "metadata": {},
   "source": [
    "----------------------------------------------------------------"
   ]
  },
  {
   "cell_type": "markdown",
   "metadata": {},
   "source": [
    "### Problem 2: Lists"
   ]
  },
  {
   "cell_type": "markdown",
   "metadata": {},
   "source": [
    "I have a fortune cookie that says my lucky numbers are:\n",
    "\n",
    "       [23, 54, 6, 8, 10078, 3]\n",
    "\n",
    "Write a function that returns 3 lists (if functions still scare you, just the solution code will do)\n",
    "   - replace the number 6 with 1\n",
    "   - the above list in decreasing order\n",
    "   - all values greater than 15"
   ]
  },
  {
   "cell_type": "code",
   "execution_count": 1,
   "metadata": {},
   "outputs": [],
   "source": [
    "#*START*\n",
    "print ('Original List = [23, 54, 6, 8, 10078, 3]')\n",
    "list1 = [23, 54, 6, 8, 10078, 3]\n",
    "list2 = [23, 54, 6, 8, 10078, 3]\n",
    "list3 = [23, 54, 6, 8, 10078, 3]\n",
    "\n",
    "#replace the number 6 with 1\n",
    "list1[2] = 1\n",
    "replaced = list1\n",
    "print ('Type “replaced” to view the modified list, which has the number 6 replaced with 1)')\n",
    "\n",
    "#the above list in decreasing order\n",
    "list2.sort(reverse=True)\n",
    "sortedlist = list2\n",
    "print ('Type \"sortedlist\" to view the list that is sorted in decreasing order')\n",
    "\n",
    "# all values greater than 15\n",
    "list3.remove(6)\n",
    "list3.remove(8)\n",
    "list3.remove(3)\n",
    "list_with_values_greater_than_15 = list3\n",
    "print ('Type \"list_with_values_greater_than_15\" to view the list that only has values greater than 15')\n",
    "\n",
    "\n",
    "#all lists\n",
    "print ('Type \"all_lists\" to view all 3 lists')\n",
    "all_lists = [list1, list2, list3]\n",
    "#*END*"
   ]
  },
  {
   "cell_type": "markdown",
   "metadata": {},
   "source": [
    "----------------------------------------------------------------"
   ]
  },
  {
   "cell_type": "markdown",
   "metadata": {},
   "source": [
    "### Problem 3: Basic Operations"
   ]
  },
  {
   "cell_type": "markdown",
   "metadata": {},
   "source": [
    "Let's now take the first step in coding some real data science. Write a statement that loads the `numpy` library into the interpreter and gives it an alias of `np`."
   ]
  },
  {
   "cell_type": "code",
   "execution_count": 1,
   "metadata": {},
   "outputs": [],
   "source": [
    "import numpy as np\n"
   ]
  },
  {
   "cell_type": "markdown",
   "metadata": {},
   "source": [
    "----------------------------------------------------------------"
   ]
  },
  {
   "cell_type": "markdown",
   "metadata": {},
   "source": [
    "### Problem 4: Numpy"
   ]
  },
  {
   "cell_type": "markdown",
   "metadata": {},
   "source": [
    "Generated a 10x10 `numpy` array with random numbers and slice the array to get the 2nd and 3rd column. Also calculate the average of 6th column using `numpy`."
   ]
  },
  {
   "cell_type": "code",
   "execution_count": 1,
   "metadata": {},
   "outputs": [],
   "source": [
    "x = np.random.randint(-100,100, (10, 10))\n",
    "print(x)\n",
    "print(x[:10, 1:3])\n",
    "print(np.mean(x[:10, 5]))\n"
   ]
  },
  {
   "cell_type": "markdown",
   "metadata": {},
   "source": [
    "----------------------------------------------------------------"
   ]
  },
  {
   "cell_type": "markdown",
   "metadata": {},
   "source": [
    "##### That's it! We look forward to seeing you in class!"
   ]
  }
 ],
 "metadata": {
  "kernelspec": {
   "display_name": "Python 3",
   "language": "python",
   "name": "python3"
  },
  "language_info": {
   "codemirror_mode": {
    "name": "ipython",
    "version": 3
   },
   "file_extension": ".py",
   "mimetype": "text/x-python",
   "name": "python",
   "nbconvert_exporter": "python",
   "pygments_lexer": "ipython3",
   "version": "3.7.3"
  }
 },
 "nbformat": 4,
 "nbformat_minor": 2
}
